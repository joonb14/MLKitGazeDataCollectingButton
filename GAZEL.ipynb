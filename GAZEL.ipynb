{
 "cells": [
  {
   "cell_type": "code",
   "execution_count": 1,
   "metadata": {},
   "outputs": [],
   "source": [
    "import numpy as np\n",
    "target=\"/special/jbpark/TabS6LWhole/train_dataset/\"\n",
    "\n",
    "left_eye_right_top = np.load(target+\"left_eye_right_top.npy\")\n",
    "left_eye_left_bottom = np.load(target+\"left_eye_left_bottom.npy\")\n",
    "right_eye_right_top = np.load(target+\"right_eye_right_top.npy\")\n",
    "right_eye_left_bottom = np.load(target+\"right_eye_left_bottom.npy\")\n",
    "\n",
    "\n",
    "left_eye_right_top[:,1] = left_eye_right_top[:,1] - left_eye_left_bottom[:,1]\n",
    "left_eye_right_top[:,0] = left_eye_left_bottom[:,0] - left_eye_right_top[:,0]\n",
    "\n",
    "right_eye_right_top[:,1] = right_eye_right_top[:,1] - right_eye_left_bottom[:,1]\n",
    "right_eye_right_top[:,0] = right_eye_left_bottom[:,0] - right_eye_right_top[:,0]"
   ]
  },
  {
   "cell_type": "code",
   "execution_count": 2,
   "metadata": {},
   "outputs": [
    {
     "data": {
      "text/plain": [
       "array([[0.14787375, 0.08312498],\n",
       "       [0.13619948, 0.07656247],\n",
       "       [0.15176517, 0.08531243],\n",
       "       ...,\n",
       "       [0.14398227, 0.08093749],\n",
       "       [0.15954793, 0.08968751],\n",
       "       [0.14009085, 0.07874998]])"
      ]
     },
     "execution_count": 2,
     "metadata": {},
     "output_type": "execute_result"
    }
   ],
   "source": [
    "left_eye_right_top"
   ]
  },
  {
   "cell_type": "code",
   "execution_count": 3,
   "metadata": {},
   "outputs": [
    {
     "data": {
      "text/plain": [
       "array([[0.14787374, 0.08312506],\n",
       "       [0.1400909 , 0.07875004],\n",
       "       [0.14787374, 0.08312502],\n",
       "       ...,\n",
       "       [0.13619948, 0.07656249],\n",
       "       [0.15954793, 0.08968752],\n",
       "       [0.14009085, 0.07874998]])"
      ]
     },
     "execution_count": 3,
     "metadata": {},
     "output_type": "execute_result"
    }
   ],
   "source": [
    "right_eye_right_top"
   ]
  },
  {
   "cell_type": "code",
   "execution_count": 5,
   "metadata": {
    "scrolled": true
   },
   "outputs": [
    {
     "name": "stdout",
     "output_type": "stream",
     "text": [
      "Model: \"model\"\n",
      "__________________________________________________________________________________________________\n",
      "Layer (type)                    Output Shape         Param #     Connected to                     \n",
      "==================================================================================================\n",
      "left_eye (InputLayer)           [(None, 64, 64, 1)]  0                                            \n",
      "__________________________________________________________________________________________________\n",
      "right_eye (InputLayer)          [(None, 64, 64, 1)]  0                                            \n",
      "__________________________________________________________________________________________________\n",
      "conv2d (Conv2D)                 (None, 64, 64, 32)   320         left_eye[0][0]                   \n",
      "                                                                 right_eye[0][0]                  \n",
      "__________________________________________________________________________________________________\n",
      "max_pooling2d (MaxPooling2D)    (None, 32, 32, 32)   0           conv2d[0][0]                     \n",
      "__________________________________________________________________________________________________\n",
      "max_pooling2d_3 (MaxPooling2D)  (None, 32, 32, 32)   0           conv2d[1][0]                     \n",
      "__________________________________________________________________________________________________\n",
      "conv2d_1 (Conv2D)               (None, 32, 32, 64)   18496       max_pooling2d[0][0]              \n",
      "                                                                 max_pooling2d_3[0][0]            \n",
      "__________________________________________________________________________________________________\n",
      "max_pooling2d_1 (MaxPooling2D)  (None, 16, 16, 64)   0           conv2d_1[0][0]                   \n",
      "__________________________________________________________________________________________________\n",
      "max_pooling2d_4 (MaxPooling2D)  (None, 16, 16, 64)   0           conv2d_1[1][0]                   \n",
      "__________________________________________________________________________________________________\n",
      "conv2d_2 (Conv2D)               (None, 16, 16, 64)   36928       max_pooling2d_1[0][0]            \n",
      "                                                                 max_pooling2d_4[0][0]            \n",
      "__________________________________________________________________________________________________\n",
      "max_pooling2d_2 (MaxPooling2D)  (None, 8, 8, 64)     0           conv2d_2[0][0]                   \n",
      "__________________________________________________________________________________________________\n",
      "max_pooling2d_5 (MaxPooling2D)  (None, 8, 8, 64)     0           conv2d_2[1][0]                   \n",
      "__________________________________________________________________________________________________\n",
      "flatten (Flatten)               (None, 4096)         0           max_pooling2d_2[0][0]            \n",
      "__________________________________________________________________________________________________\n",
      "flatten_1 (Flatten)             (None, 4096)         0           max_pooling2d_5[0][0]            \n",
      "__________________________________________________________________________________________________\n",
      "left_eye_right_top (InputLayer) [(None, 1, 1, 2)]    0                                            \n",
      "__________________________________________________________________________________________________\n",
      "right_eye_right_top (InputLayer [(None, 1, 1, 2)]    0                                            \n",
      "__________________________________________________________________________________________________\n",
      "concatenate (Concatenate)       (None, 8192)         0           flatten[0][0]                    \n",
      "                                                                 flatten_1[0][0]                  \n",
      "__________________________________________________________________________________________________\n",
      "euler (InputLayer)              [(None, 1, 1, 3)]    0                                            \n",
      "__________________________________________________________________________________________________\n",
      "facepos (InputLayer)            [(None, 1, 1, 2)]    0                                            \n",
      "__________________________________________________________________________________________________\n",
      "flatten_4 (Flatten)             (None, 2)            0           left_eye_right_top[0][0]         \n",
      "__________________________________________________________________________________________________\n",
      "flatten_5 (Flatten)             (None, 2)            0           right_eye_right_top[0][0]        \n",
      "__________________________________________________________________________________________________\n",
      "dense (Dense)                   (None, 64)           524352      concatenate[0][0]                \n",
      "__________________________________________________________________________________________________\n",
      "flatten_3 (Flatten)             (None, 3)            0           euler[0][0]                      \n",
      "__________________________________________________________________________________________________\n",
      "flatten_2 (Flatten)             (None, 2)            0           facepos[0][0]                    \n",
      "__________________________________________________________________________________________________\n",
      "concatenate_1 (Concatenate)     (None, 4)            0           flatten_4[0][0]                  \n",
      "                                                                 flatten_5[0][0]                  \n",
      "__________________________________________________________________________________________________\n",
      "dense_1 (Dense)                 (None, 16)           1040        dense[0][0]                      \n",
      "__________________________________________________________________________________________________\n",
      "concatenate_2 (Concatenate)     (None, 9)            0           flatten_3[0][0]                  \n",
      "                                                                 flatten_2[0][0]                  \n",
      "                                                                 concatenate_1[0][0]              \n",
      "__________________________________________________________________________________________________\n",
      "dropout (Dropout)               (None, 16)           0           dense_1[0][0]                    \n",
      "__________________________________________________________________________________________________\n",
      "dense_2 (Dense)                 (None, 16)           160         concatenate_2[0][0]              \n",
      "__________________________________________________________________________________________________\n",
      "concatenate_3 (Concatenate)     (None, 32)           0           dropout[0][0]                    \n",
      "                                                                 dense_2[0][0]                    \n",
      "__________________________________________________________________________________________________\n",
      "dense_3 (Dense)                 (None, 16)           528         concatenate_3[0][0]              \n",
      "__________________________________________________________________________________________________\n",
      "pred (Dense)                    (None, 2)            34          dense_3[0][0]                    \n",
      "__________________________________________________________________________________________________\n",
      "add (Add)                       (None, 2)            0           pred[0][0]                       \n",
      "                                                                 flatten_2[0][0]                  \n",
      "==================================================================================================\n",
      "Total params: 581,858\n",
      "Trainable params: 581,858\n",
      "Non-trainable params: 0\n",
      "__________________________________________________________________________________________________\n"
     ]
    }
   ],
   "source": [
    "import json\n",
    "import glob\n",
    "import os\n",
    "import random\n",
    "from PIL import Image\n",
    "import numpy as np\n",
    "import tensorflow as tf\n",
    "from tensorflow.keras.layers import concatenate, ZeroPadding2D, Add, add, Input, Conv2D, MaxPooling2D, BatchNormalization, Activation, Dropout, Flatten, Dense\n",
    "from tensorflow.keras.models import Model\n",
    "from tensorflow.keras.callbacks import LearningRateScheduler\n",
    "from tensorflow.keras.initializers import Constant\n",
    "import tensorflow.keras.backend as K\n",
    "from tensorflow.keras.optimizers import SGD, Adam\n",
    "from tensorflow.keras.callbacks import ModelCheckpoint\n",
    "from tensorflow.keras.callbacks import EarlyStopping, ReduceLROnPlateau\n",
    "from tensorflow.keras.utils import multi_gpu_model\n",
    "import gc\n",
    "from pathlib import Path\n",
    "\n",
    "dropout_rate=0\n",
    "resolution = 64\n",
    "channels = 1\n",
    "target=\"/special/jbpark/TabS6LWhole/train_dataset/\"\n",
    "model_dir = \"/special/jbpark/EvalModel\"\n",
    "\n",
    "def custom_loss(y_true, y_pred): \n",
    "    #euclidean loss\n",
    "    return K.sqrt(K.sum(K.square(y_pred - y_true), axis=-1)) # /205.7\n",
    "    #squared loss\n",
    "    #return K.sum(K.square(y_pred - y_true), axis=-1) \n",
    "    \n",
    "SConv1 = Conv2D(32, (3, 3), padding = 'same', activation = 'relu')\n",
    "SConv2 = Conv2D(64, (3, 3), padding = 'same', activation = 'relu')\n",
    "SConv3 = Conv2D(64, (3, 3), padding = 'same', activation = 'relu')\n",
    "\n",
    "# Left Eye\n",
    "input1 = Input(shape=(64, 64,channels), name='left_eye')\n",
    "x = SConv1(input1)\n",
    "x = MaxPooling2D(pool_size = (2, 2))(x)\n",
    "\n",
    "x = SConv2(x)\n",
    "x = MaxPooling2D(pool_size = (2, 2))(x)\n",
    "\n",
    "x = SConv3(x)\n",
    "left_eye = MaxPooling2D(pool_size = (2, 2))(x)\n",
    "left_eye = Flatten()(left_eye)\n",
    "\n",
    "# Right Eye\n",
    "input2 = Input(shape=(64, 64,channels), name='right_eye')\n",
    "x = SConv1(input2)\n",
    "x = MaxPooling2D(pool_size = (2, 2))(x)\n",
    "\n",
    "x = SConv2(x)\n",
    "x = MaxPooling2D(pool_size = (2, 2), padding='same')(x)\n",
    "\n",
    "x = SConv3(x)\n",
    "right_eye = MaxPooling2D(pool_size = (2, 2), padding='same')(x)\n",
    "right_eye = Flatten()(right_eye)\n",
    "\n",
    "# Eyes\n",
    "eyes = concatenate([left_eye, right_eye])\n",
    "fc1 = Dense(64, activation='relu')(eyes)\n",
    "fc2 = Dense(16, activation='relu')(fc1)\n",
    "fc2 = Dropout(rate=dropout_rate)(fc2)\n",
    "\n",
    "# Facepos\n",
    "input4 = Input(shape=(1, 1, 2), name='facepos')\n",
    "facepos = Flatten()(input4)\n",
    "\n",
    "#Euler\n",
    "input3 = Input(shape=(1, 1, 3), name='euler')\n",
    "euler = Flatten()(input3)\n",
    "\n",
    "# Eye size\n",
    "input5 = Input(shape=(1, 1, 2), name='left_eye_right_top')\n",
    "input6 = Input(shape=(1, 1, 2), name='right_eye_right_top')\n",
    "left_eye_right_top = Flatten()(input5)\n",
    "right_eye_right_top = Flatten()(input6)\n",
    "eye_corner = concatenate([left_eye_right_top, right_eye_right_top])\n",
    "\n",
    "head_pose = concatenate([euler, facepos, eye_corner])\n",
    "fc_f1 = Dense(16, activation='relu')(head_pose)\n",
    "\n",
    "# FC2, FC3\n",
    "fc2 = concatenate([fc2, fc_f1])\n",
    "fc2 = Dense(16, activation='relu')(fc2)\n",
    "fc3 = Dense(2, activation='linear', name='pred')(fc2)\n",
    "\n",
    "fc3 = add([fc3,facepos])\n",
    "pred = fc3\n",
    "\n",
    "model = Model(inputs=[input1, input2, input3, input4, input5, input6], outputs=[pred])\n",
    "\n",
    "tf.distribute.MirroredStrategy()\n",
    "\n",
    "model.compile(loss=custom_loss, optimizer=Adam(lr=1e-3))\n",
    "model.summary()\n",
    "\n",
    "gaze_point = np.load(target+\"gaze_point.npy\").astype(float)\n",
    "left_eye = np.load(target+\"left_eye.npy\").reshape(-1,resolution,resolution,channels)\n",
    "right_eye = np.load(target+\"right_eye.npy\").reshape(-1,resolution,resolution,channels)\n",
    "euler = np.load(target+\"euler.npy\").reshape(-1,1,1,3)\n",
    "facepos = np.load(target+\"facepos.npy\").reshape(-1,1,1,2)\n",
    "left_eye_right_top = np.load(target+\"left_eye_right_top.npy\")\n",
    "left_eye_left_bottom = np.load(target+\"left_eye_left_bottom.npy\")\n",
    "right_eye_right_top = np.load(target+\"right_eye_right_top.npy\")\n",
    "right_eye_left_bottom = np.load(target+\"right_eye_left_bottom.npy\")\n",
    "\n",
    "\n",
    "left_eye_right_top[:,1] = left_eye_right_top[:,1] - left_eye_left_bottom[:,1]\n",
    "left_eye_right_top[:,0] = left_eye_left_bottom[:,0] - left_eye_right_top[:,0]\n",
    "\n",
    "right_eye_right_top[:,1] = right_eye_right_top[:,1] - right_eye_left_bottom[:,1]\n",
    "right_eye_right_top[:,0] = right_eye_left_bottom[:,0] - right_eye_right_top[:,0]\n",
    "\n",
    "left_eye_right_top = left_eye_right_top.reshape(-1,1,1,2)\n",
    "right_eye_right_top = left_eye_left_bottom.reshape(-1,1,1,2)\n",
    "\n",
    "epoch = 1000\n",
    "Path(model_dir+'/checkpoint').mkdir(parents=True, exist_ok=True)\n",
    "mc = ModelCheckpoint(model_dir+'/checkpoint/gazel_shared_ver.h5', monitor='val_loss', mode='min', save_best_only=True)\n",
    "es = EarlyStopping(monitor='val_loss', mode='min', verbose=1, patience=50)\n",
    "#hist = model.fit([left_eye,right_eye, euler, facepos],gaze_point, validation_split=0.1,epochs=epoch, callbacks=[es, mc])\n",
    "hist = model.fit([left_eye, right_eye, euler, facepos, left_eye_right_top, right_eye_right_top,],gaze_point, validation_split=0.1,epochs=epoch, callbacks=[es, mc])\n",
    "\n",
    "Path(model_dir+'/Lmodels').mkdir(parents=True, exist_ok=True)\n",
    "model.save(model_dir+'/Lmodels/gazel_shared_ver.h5')\n",
    "\n",
    "K.clear_session()\n",
    "%xdel -n gaze_point\n",
    "%xdel -n left_eye\n",
    "%xdel -n right_eye\n",
    "%xdel -n euler\n",
    "%xdel -n facepos\n",
    "%xdel -n left_eye_right_top\n",
    "%xdel -n left_eye_left_bottom\n",
    "%xdel -n right_eye_right_top\n",
    "%xdel -n right_eye_left_bottom\n",
    "\n",
    "gc.collect()\n",
    "%reset -f"
   ]
  },
  {
   "cell_type": "markdown",
   "metadata": {},
   "source": [
    "##### if you get error with toco_protos or toco run the python code with terminal or convert whole file to .py file then run"
   ]
  },
  {
   "cell_type": "code",
   "execution_count": 1,
   "metadata": {
    "scrolled": true
   },
   "outputs": [
    {
     "ename": "ConverterError",
     "evalue": "See console for info.\n/bin/sh: 1: toco_from_protos: not found\n\n\n",
     "output_type": "error",
     "traceback": [
      "\u001b[0;31m---------------------------------------------------------------------------\u001b[0m",
      "\u001b[0;31mConverterError\u001b[0m                            Traceback (most recent call last)",
      "\u001b[0;32m<ipython-input-1-3c5825c596e6>\u001b[0m in \u001b[0;36m<module>\u001b[0;34m\u001b[0m\n\u001b[1;32m     19\u001b[0m \u001b[0;31m# Convert the model.\u001b[0m\u001b[0;34m\u001b[0m\u001b[0;34m\u001b[0m\u001b[0;34m\u001b[0m\u001b[0m\n\u001b[1;32m     20\u001b[0m \u001b[0mconverter\u001b[0m \u001b[0;34m=\u001b[0m \u001b[0mtf\u001b[0m\u001b[0;34m.\u001b[0m\u001b[0mlite\u001b[0m\u001b[0;34m.\u001b[0m\u001b[0mTFLiteConverter\u001b[0m\u001b[0;34m.\u001b[0m\u001b[0mfrom_keras_model\u001b[0m\u001b[0;34m(\u001b[0m\u001b[0mmodel\u001b[0m\u001b[0;34m)\u001b[0m\u001b[0;34m\u001b[0m\u001b[0;34m\u001b[0m\u001b[0m\n\u001b[0;32m---> 21\u001b[0;31m \u001b[0mtflite_model\u001b[0m \u001b[0;34m=\u001b[0m \u001b[0mconverter\u001b[0m\u001b[0;34m.\u001b[0m\u001b[0mconvert\u001b[0m\u001b[0;34m(\u001b[0m\u001b[0;34m)\u001b[0m\u001b[0;34m\u001b[0m\u001b[0;34m\u001b[0m\u001b[0m\n\u001b[0m\u001b[1;32m     22\u001b[0m \u001b[0;34m\u001b[0m\u001b[0m\n\u001b[1;32m     23\u001b[0m \u001b[0;31m# Save the TF Lite model.\u001b[0m\u001b[0;34m\u001b[0m\u001b[0;34m\u001b[0m\u001b[0;34m\u001b[0m\u001b[0m\n",
      "\u001b[0;32m~/.anaconda3/envs/tensorflow20/lib/python3.7/site-packages/tensorflow_core/lite/python/lite.py\u001b[0m in \u001b[0;36mconvert\u001b[0;34m(self)\u001b[0m\n\u001b[1;32m    444\u001b[0m         \u001b[0minput_tensors\u001b[0m\u001b[0;34m=\u001b[0m\u001b[0minput_tensors\u001b[0m\u001b[0;34m,\u001b[0m\u001b[0;34m\u001b[0m\u001b[0;34m\u001b[0m\u001b[0m\n\u001b[1;32m    445\u001b[0m         \u001b[0moutput_tensors\u001b[0m\u001b[0;34m=\u001b[0m\u001b[0moutput_tensors\u001b[0m\u001b[0;34m,\u001b[0m\u001b[0;34m\u001b[0m\u001b[0;34m\u001b[0m\u001b[0m\n\u001b[0;32m--> 446\u001b[0;31m         **converter_kwargs)\n\u001b[0m\u001b[1;32m    447\u001b[0m \u001b[0;34m\u001b[0m\u001b[0m\n\u001b[1;32m    448\u001b[0m     \u001b[0;32mif\u001b[0m \u001b[0mself\u001b[0m\u001b[0;34m.\u001b[0m\u001b[0m_is_calibration_quantize\u001b[0m\u001b[0;34m(\u001b[0m\u001b[0;34m)\u001b[0m\u001b[0;34m:\u001b[0m\u001b[0;34m\u001b[0m\u001b[0;34m\u001b[0m\u001b[0m\n",
      "\u001b[0;32m~/.anaconda3/envs/tensorflow20/lib/python3.7/site-packages/tensorflow_core/lite/python/convert.py\u001b[0m in \u001b[0;36mtoco_convert_impl\u001b[0;34m(input_data, input_tensors, output_tensors, enable_mlir_converter, *args, **kwargs)\u001b[0m\n\u001b[1;32m    447\u001b[0m       \u001b[0minput_data\u001b[0m\u001b[0;34m.\u001b[0m\u001b[0mSerializeToString\u001b[0m\u001b[0;34m(\u001b[0m\u001b[0;34m)\u001b[0m\u001b[0;34m,\u001b[0m\u001b[0;34m\u001b[0m\u001b[0;34m\u001b[0m\u001b[0m\n\u001b[1;32m    448\u001b[0m       \u001b[0mdebug_info_str\u001b[0m\u001b[0;34m=\u001b[0m\u001b[0mdebug_info_str\u001b[0m\u001b[0;34m,\u001b[0m\u001b[0;34m\u001b[0m\u001b[0;34m\u001b[0m\u001b[0m\n\u001b[0;32m--> 449\u001b[0;31m       enable_mlir_converter=enable_mlir_converter)\n\u001b[0m\u001b[1;32m    450\u001b[0m   \u001b[0;32mreturn\u001b[0m \u001b[0mdata\u001b[0m\u001b[0;34m\u001b[0m\u001b[0;34m\u001b[0m\u001b[0m\n\u001b[1;32m    451\u001b[0m \u001b[0;34m\u001b[0m\u001b[0m\n",
      "\u001b[0;32m~/.anaconda3/envs/tensorflow20/lib/python3.7/site-packages/tensorflow_core/lite/python/convert.py\u001b[0m in \u001b[0;36mtoco_convert_protos\u001b[0;34m(model_flags_str, toco_flags_str, input_data_str, debug_info_str, enable_mlir_converter)\u001b[0m\n\u001b[1;32m    198\u001b[0m       \u001b[0mstdout\u001b[0m \u001b[0;34m=\u001b[0m \u001b[0m_try_convert_to_unicode\u001b[0m\u001b[0;34m(\u001b[0m\u001b[0mstdout\u001b[0m\u001b[0;34m)\u001b[0m\u001b[0;34m\u001b[0m\u001b[0;34m\u001b[0m\u001b[0m\n\u001b[1;32m    199\u001b[0m       \u001b[0mstderr\u001b[0m \u001b[0;34m=\u001b[0m \u001b[0m_try_convert_to_unicode\u001b[0m\u001b[0;34m(\u001b[0m\u001b[0mstderr\u001b[0m\u001b[0;34m)\u001b[0m\u001b[0;34m\u001b[0m\u001b[0;34m\u001b[0m\u001b[0m\n\u001b[0;32m--> 200\u001b[0;31m       \u001b[0;32mraise\u001b[0m \u001b[0mConverterError\u001b[0m\u001b[0;34m(\u001b[0m\u001b[0;34m\"See console for info.\\n%s\\n%s\\n\"\u001b[0m \u001b[0;34m%\u001b[0m \u001b[0;34m(\u001b[0m\u001b[0mstdout\u001b[0m\u001b[0;34m,\u001b[0m \u001b[0mstderr\u001b[0m\u001b[0;34m)\u001b[0m\u001b[0;34m)\u001b[0m\u001b[0;34m\u001b[0m\u001b[0;34m\u001b[0m\u001b[0m\n\u001b[0m\u001b[1;32m    201\u001b[0m   \u001b[0;32mfinally\u001b[0m\u001b[0;34m:\u001b[0m\u001b[0;34m\u001b[0m\u001b[0;34m\u001b[0m\u001b[0m\n\u001b[1;32m    202\u001b[0m     \u001b[0;31m# Must manually cleanup files.\u001b[0m\u001b[0;34m\u001b[0m\u001b[0;34m\u001b[0m\u001b[0;34m\u001b[0m\u001b[0m\n",
      "\u001b[0;31mConverterError\u001b[0m: See console for info.\n/bin/sh: 1: toco_from_protos: not found\n\n\n"
     ]
    }
   ],
   "source": [
    "import numpy as np\n",
    "import tensorflow as tf\n",
    "from pathlib import Path\n",
    "import tensorflow.keras.backend as K\n",
    "from tensorflow.keras.models import Model, load_model\n",
    "\n",
    "\n",
    "def custom_loss(y_true, y_pred): \n",
    "    #euclidean loss\n",
    "    return K.sqrt(K.sum(K.square(y_pred - y_true), axis=-1)) # /205.7\n",
    "    #squared loss\n",
    "    #return K.sum(K.square(y_pred - y_true), axis=-1) \n",
    "\n",
    "model_dir = \"/special/jbpark/TabletModel/RGBmodels/\"\n",
    "keras_file = model_dir+'gaze_estimator.h5'\n",
    "# Convert to TensorFlow Lite model.\n",
    "model = load_model(keras_file,custom_objects={'custom_loss': custom_loss})\n",
    "\n",
    "# Convert the model.\n",
    "converter = tf.lite.TFLiteConverter.from_keras_model(model)\n",
    "tflite_model = converter.convert()\n",
    "\n",
    "# Save the TF Lite model.\n",
    "with tf.io.gfile.GFile(model_dir+'tflite/gaze_estimator.tflite', 'wb') as f:\n",
    "    f.write(tflite_model)"
   ]
  },
  {
   "cell_type": "code",
   "execution_count": 3,
   "metadata": {},
   "outputs": [
    {
     "data": {
      "text/plain": [
       "['/special/jbpark/TabS6Model/checkpoint/tflite/Seunghoon_mse_sage.tflite',\n",
       " '/special/jbpark/TabS6Model/checkpoint/tflite/Seunghoon_mysage.tflite',\n",
       " '/special/jbpark/TabS6Model/checkpoint/tflite/Seunghoon_sage.tflite',\n",
       " '/special/jbpark/TabS6Model/checkpoint/tflite/customloss_sage.tflite',\n",
       " '/special/jbpark/TabS6Model/checkpoint/tflite/facepos.tflite',\n",
       " '/special/jbpark/TabS6Model/checkpoint/tflite/fc_layer_opt.tflite',\n",
       " '/special/jbpark/TabS6Model/checkpoint/tflite/grid_mysage.tflite',\n",
       " '/special/jbpark/TabS6Model/checkpoint/tflite/illum_facepos.tflite',\n",
       " '/special/jbpark/TabS6Model/checkpoint/tflite/illum_mysage.tflite',\n",
       " '/special/jbpark/TabS6Model/checkpoint/tflite/mysage.tflite',\n",
       " '/special/jbpark/TabS6Model/checkpoint/tflite/noeuler_illum_mysage.tflite',\n",
       " '/special/jbpark/TabS6Model/checkpoint/tflite/rgb_facepos.tflite',\n",
       " '/special/jbpark/TabS6Model/checkpoint/tflite/sage.tflite',\n",
       " '/special/jbpark/TabS6Model/checkpoint/tflite/seunghoon_sage.tflite',\n",
       " '/special/jbpark/TabS6Model/checkpoint/tflite/tabs6_facegrid.tflite']"
      ]
     },
     "execution_count": 3,
     "metadata": {},
     "output_type": "execute_result"
    }
   ],
   "source": [
    "import glob\n",
    "\n",
    "path = glob.glob(\"/special/jbpark/TabS6Model/checkpoint/tflite/*\")\n",
    "path.sort()\n",
    "path"
   ]
  },
  {
   "cell_type": "code",
   "execution_count": 9,
   "metadata": {},
   "outputs": [
    {
     "name": "stdout",
     "output_type": "stream",
     "text": [
      "/special/jbpark/TabS6Model/checkpoint/tflite/illum_facepos.tflite\n"
     ]
    },
    {
     "data": {
      "text/plain": [
       "[{'name': 'left_eye',\n",
       "  'index': 4,\n",
       "  'shape': array([ 1, 64, 64,  1], dtype=int32),\n",
       "  'dtype': numpy.float32,\n",
       "  'quantization': (0.0, 0)},\n",
       " {'name': 'euler',\n",
       "  'index': 1,\n",
       "  'shape': array([1, 1, 1, 3], dtype=int32),\n",
       "  'dtype': numpy.float32,\n",
       "  'quantization': (0.0, 0)},\n",
       " {'name': 'facepos',\n",
       "  'index': 3,\n",
       "  'shape': array([1, 1, 1, 2], dtype=int32),\n",
       "  'dtype': numpy.float32,\n",
       "  'quantization': (0.0, 0)},\n",
       " {'name': 'face_grid',\n",
       "  'index': 2,\n",
       "  'shape': array([ 1, 25, 25,  1], dtype=int32),\n",
       "  'dtype': numpy.float32,\n",
       "  'quantization': (0.0, 0)},\n",
       " {'name': 'right_eye',\n",
       "  'index': 56,\n",
       "  'shape': array([ 1, 64, 64,  1], dtype=int32),\n",
       "  'dtype': numpy.float32,\n",
       "  'quantization': (0.0, 0)}]"
      ]
     },
     "execution_count": 9,
     "metadata": {},
     "output_type": "execute_result"
    }
   ],
   "source": [
    "import tensorflow as tf\n",
    "print(path[7])\n",
    "tflite = tf.lite.Interpreter(model_path=path[7])\n",
    "tflite.get_input_details()"
   ]
  },
  {
   "cell_type": "code",
   "execution_count": null,
   "metadata": {},
   "outputs": [],
   "source": []
  }
 ],
 "metadata": {
  "kernelspec": {
   "display_name": "TensorFlow 2.0",
   "language": "python",
   "name": "tensorflow20"
  },
  "language_info": {
   "codemirror_mode": {
    "name": "ipython",
    "version": 3
   },
   "file_extension": ".py",
   "mimetype": "text/x-python",
   "name": "python",
   "nbconvert_exporter": "python",
   "pygments_lexer": "ipython3",
   "version": "3.7.7"
  }
 },
 "nbformat": 4,
 "nbformat_minor": 4
}
